{
 "cells": [
  {
   "cell_type": "markdown",
   "id": "5891b174",
   "metadata": {},
   "source": [
    "# Assignment\n",
    "\n",
    "## Brief\n",
    "\n",
    "Write the Python codes for the following questions.\n",
    "\n",
    "## Instructions\n",
    "\n",
    "Paste the answer as Python in the answer code section below each question.\n",
    "\n",
    "### Question 1\n",
    "\n",
    "Question: Select all numeric columns except float from the DataFrame `dft`.\n",
    "\n",
    "Answer:"
   ]
  },
  {
   "cell_type": "code",
   "execution_count": null,
   "id": "0abe16a1",
   "metadata": {},
   "outputs": [],
   "source": []
  },
  {
   "cell_type": "markdown",
   "id": "62a26a5c",
   "metadata": {},
   "source": [
    "### Question 2\n",
    "\n",
    "Question: How do you return the last 3 rows of a DataFrame `df`?\n",
    "\n",
    "Answer:"
   ]
  },
  {
   "cell_type": "code",
   "execution_count": null,
   "id": "58166e09",
   "metadata": {},
   "outputs": [],
   "source": []
  },
  {
   "cell_type": "markdown",
   "id": "7d886099",
   "metadata": {},
   "source": [
    "### Question 3\n",
    "\n",
    "Question: Return the minimum and maximum of a Series `x` as a new Series with the index `[\"min\", \"max\"]`.\n",
    "\n",
    "Answer:"
   ]
  },
  {
   "cell_type": "code",
   "execution_count": null,
   "id": "60653615",
   "metadata": {},
   "outputs": [],
   "source": []
  },
  {
   "cell_type": "markdown",
   "id": "042bddce",
   "metadata": {},
   "source": [
    "### Question 4\n",
    "\n",
    "Question: Multiply `df1` and `df2` (two DataFrames) with a `fill_value` of 1.\n",
    "\n",
    "Answer:"
   ]
  },
  {
   "cell_type": "code",
   "execution_count": null,
   "id": "b4e1595a",
   "metadata": {},
   "outputs": [],
   "source": []
  },
  {
   "cell_type": "markdown",
   "id": "e9f3739f",
   "metadata": {},
   "source": [
    "### Question 5\n",
    "\n",
    "Question: How do you create a DataFrame from a nested dictionary of dictionaries?"
   ]
  },
  {
   "cell_type": "code",
   "execution_count": null,
   "id": "03c191b4",
   "metadata": {},
   "outputs": [],
   "source": [
    "nested_dict = {'A': {'a': 1, 'b': 2}, 'B': {'a': 3, 'b': 4}}"
   ]
  },
  {
   "cell_type": "markdown",
   "id": "1b87ad72",
   "metadata": {},
   "source": [
    "Answer:"
   ]
  },
  {
   "cell_type": "code",
   "execution_count": null,
   "id": "03d244de",
   "metadata": {},
   "outputs": [],
   "source": []
  },
  {
   "cell_type": "markdown",
   "id": "ea62fbfa",
   "metadata": {},
   "source": [
    "## Submission\n",
    "\n",
    "- Submit the URL of the GitHub Repository that contains your work to NTU black board.\n",
    "- Should you reference the work of your classmate(s) or online resources, give them credit by adding either the name of your classmate or URL."
   ]
  }
 ],
 "metadata": {
  "jupytext": {
   "cell_metadata_filter": "-all",
   "main_language": "python",
   "notebook_metadata_filter": "-all"
  }
 },
 "nbformat": 4,
 "nbformat_minor": 5
}
